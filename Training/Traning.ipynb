{
 "cells": [
  {
   "cell_type": "code",
   "execution_count": null,
   "metadata": {},
   "outputs": [],
   "source": [
    "import os\n",
    "import pandas as pd\n",
    "from glob import glob\n",
    "import numpy as np \n",
    "import matplotlib.pyplot as plt\n",
    "from matplotlib.image import imread \n",
    "import seaborn as sns \n",
    "from tensorflow.keras.models import Sequential\n",
    "from tensorflow.keras.layers import Activation, Dropout, Flatten, Dense, Conv2D, MaxPooling2D\n",
    "from tensorflow.keras.models import Model\n",
    "from tensorflow.keras.preprocessing import image\n",
    "from tensorflow.keras.preprocessing.image import ImageDataGenerator\n",
    "%matplotlib inline"
   ]
  },
  {
   "cell_type": "code",
   "execution_count": null,
   "metadata": {},
   "outputs": [],
   "source": [
    "train_path = \"C:\\Users\\Lenovo\\Downloads\\Handwritten-linear-equation-solver-CNN-main\\Handwritten-linear-equation-solver-CNN-main\\Training\\output\\train\"\n",
    "test_path  = \"C:\\Users\\Lenovo\\Downloads\\Handwritten-linear-equation-solver-CNN-main\\Handwritten-linear-equation-solver-CNN-main\\Training\\output\\test\"\n",
    "val_path = \"C:\\Users\\Lenovo\\Downloads\\Handwritten-linear-equation-solver-CNN-main\\Handwritten-linear-equation-solver-CNN-main\\Training\\output\\val\""
   ]
  },
  {
   "cell_type": "code",
   "execution_count": 5,
   "metadata": {},
   "outputs": [
    {
     "data": {
      "text/plain": [
       "['+',\n",
       " '-',\n",
       " '0',\n",
       " '1',\n",
       " '2',\n",
       " '3',\n",
       " '4',\n",
       " '5',\n",
       " '6',\n",
       " '7',\n",
       " '8',\n",
       " '9',\n",
       " '=',\n",
       " 'div',\n",
       " 'X',\n",
       " 'y',\n",
       " 'z']"
      ]
     },
     "execution_count": 5,
     "metadata": {},
     "output_type": "execute_result"
    }
   ],
   "source": [
    "os.listdir(val_path)"
   ]
  },
  {
   "cell_type": "code",
   "execution_count": 18,
   "metadata": {},
   "outputs": [],
   "source": [
    "dim1 = []\n",
    "dim2 = []\n",
    "for image_filename in os.listdir(test_path+'\\\\1'):\n",
    "    \n",
    "    img = imread(test_path+'\\\\1'+'\\\\'+image_filename)\n",
    "    d1,d2 = img.shape\n",
    "    dim1.append(d1)\n",
    "    dim2.append(d2)"
   ]
  },
  {
   "cell_type": "code",
   "execution_count": 34,
   "metadata": {},
   "outputs": [
    {
     "name": "stdout",
     "output_type": "stream",
     "text": [
      "(45, 45, 1)\n"
     ]
    }
   ],
   "source": [
    "image_shape = (int(np.mean(dim1)),int(np.mean(dim2)),1)\n",
    "print(image_shape)"
   ]
  },
  {
   "cell_type": "code",
   "execution_count": 30,
   "metadata": {},
   "outputs": [
    {
     "name": "stdout",
     "output_type": "stream",
     "text": [
      "Total category in dataset is:: 17\n"
     ]
    }
   ],
   "source": [
    "folders=glob(test_path + '/*')\n",
    "print(f\"Total category in dataset is:: {len(folders)}\")"
   ]
  },
  {
   "cell_type": "code",
   "execution_count": 31,
   "metadata": {},
   "outputs": [],
   "source": [
    "traindata_gen=ImageDataGenerator(\n",
    "                             rotation_range=10,\n",
    "                             rescale=1/255.,\n",
    "                             width_shift_range=0.1,\n",
    "                             height_shift_range=0.1,\n",
    "                             shear_range=0.1,\n",
    "                             zoom_range=0.1,\n",
    "                             fill_mode='nearest'\n",
    "                              )\n",
    "\n",
    "testdata_gen=ImageDataGenerator(\n",
    "                             \n",
    "                             rescale=1/255.)\n",
    "\n",
    "valdatagen = ImageDataGenerator(\n",
    "                            rescale=1/255.\n",
    "                    )"
   ]
  },
  {
   "cell_type": "code",
   "execution_count": 37,
   "metadata": {},
   "outputs": [],
   "source": [
    "model = Sequential()\n",
    "\n",
    "model.add(Conv2D(filters = 32, kernel_size = (5,5),padding = 'Same', \n",
    "                 activation ='relu', input_shape =image_shape))\n",
    "model.add(Conv2D(filters = 32, kernel_size = (5,5),padding = 'Same', \n",
    "                 activation ='relu'))\n",
    "model.add(MaxPooling2D(pool_size=(2,2)))\n",
    "model.add(Dropout(0.25))\n",
    "\n",
    "\n",
    "model.add(Conv2D(filters = 64, kernel_size = (3,3),padding = 'Same', \n",
    "                 activation ='relu'))\n",
    "model.add(Conv2D(filters = 64, kernel_size = (3,3),padding = 'Same', \n",
    "                 activation ='relu'))\n",
    "model.add(MaxPooling2D(pool_size=(2,2), strides=(2,2)))\n",
    "model.add(Dropout(0.25))\n",
    "\n",
    "\n",
    "model.add(Flatten())\n",
    "model.add(Dense(256, activation = \"relu\"))\n",
    "model.add(Dropout(0.5))\n",
    "model.add(Dense(len(folders), activation = \"softmax\"))\n",
    "\n",
    "\n",
    "\n",
    "\n",
    "# model = Sequential()\n",
    "\n",
    "# model.add(Conv2D(filters=32, kernel_size=(5,5), strides=1, padding='same',input_shape=image_shape, activation='relu',))\n",
    "# model.add(MaxPooling2D(pool_size=(2, 2)))\n",
    "\n",
    "# model.add(Conv2D(filters=64, kernel_size=(5,5), strides=1, padding='same',input_shape=image_shape, activation='relu',))\n",
    "# model.add(MaxPooling2D(pool_size=(2, 2)))\n",
    "\n",
    "# model.add(Conv2D(filters=128, kernel_size=(3,3), strides=1, padding='same',input_shape=image_shape, activation='relu',))\n",
    "# model.add(MaxPooling2D(pool_size=(2, 2)))\n",
    "\n",
    "# model.add(Flatten())\n",
    "\n",
    "# model.add(Dense(512))\n",
    "# model.add(Activation('relu'))\n",
    "\n",
    "# model.add(Dropout(0.5))\n",
    "\n",
    "# model.add(Dense(len(folders)))\n",
    "# model.add(Activation('sigmoid'))\n",
    "\n",
    "# model.compile(loss='categorical_crossentropy',\n",
    "#               optimizer='rmsprop',\n",
    "#               metrics=['accuracy'])"
   ]
  },
  {
   "cell_type": "code",
   "execution_count": 44,
   "metadata": {},
   "outputs": [],
   "source": [
    "model.compile(loss='categorical_crossentropy',\n",
    "              optimizer='adam',\n",
    "              metrics=['accuracy'])"
   ]
  },
  {
   "cell_type": "code",
   "execution_count": 38,
   "metadata": {},
   "outputs": [
    {
     "name": "stdout",
     "output_type": "stream",
     "text": [
      "Model: \"sequential_6\"\n",
      "_________________________________________________________________\n",
      "Layer (type)                 Output Shape              Param #   \n",
      "=================================================================\n",
      "conv2d_9 (Conv2D)            (None, 45, 45, 32)        832       \n",
      "_________________________________________________________________\n",
      "conv2d_10 (Conv2D)           (None, 45, 45, 32)        25632     \n",
      "_________________________________________________________________\n",
      "max_pooling2d_3 (MaxPooling2 (None, 22, 22, 32)        0         \n",
      "_________________________________________________________________\n",
      "dropout_1 (Dropout)          (None, 22, 22, 32)        0         \n",
      "_________________________________________________________________\n",
      "conv2d_11 (Conv2D)           (None, 22, 22, 64)        18496     \n",
      "_________________________________________________________________\n",
      "conv2d_12 (Conv2D)           (None, 22, 22, 64)        36928     \n",
      "_________________________________________________________________\n",
      "max_pooling2d_4 (MaxPooling2 (None, 11, 11, 64)        0         \n",
      "_________________________________________________________________\n",
      "dropout_2 (Dropout)          (None, 11, 11, 64)        0         \n",
      "_________________________________________________________________\n",
      "flatten_1 (Flatten)          (None, 7744)              0         \n",
      "_________________________________________________________________\n",
      "dense_2 (Dense)              (None, 256)               1982720   \n",
      "_________________________________________________________________\n",
      "dropout_3 (Dropout)          (None, 256)               0         \n",
      "_________________________________________________________________\n",
      "dense_3 (Dense)              (None, 17)                4369      \n",
      "=================================================================\n",
      "Total params: 2,068,977\n",
      "Trainable params: 2,068,977\n",
      "Non-trainable params: 0\n",
      "_________________________________________________________________\n"
     ]
    }
   ],
   "source": [
    "model.summary()"
   ]
  },
  {
   "cell_type": "code",
   "execution_count": 39,
   "metadata": {},
   "outputs": [],
   "source": [
    "from tensorflow.keras.callbacks import EarlyStopping\n",
    "early_stop = EarlyStopping(monitor='val_loss',patience=2)"
   ]
  },
  {
   "cell_type": "code",
   "execution_count": 41,
   "metadata": {},
   "outputs": [
    {
     "name": "stdout",
     "output_type": "stream",
     "text": [
      "Found 167308 images belonging to 17 classes.\n",
      "Found 20928 images belonging to 17 classes.\n",
      "Found 20906 images belonging to 17 classes.\n"
     ]
    }
   ],
   "source": [
    "batch_size = 32\n",
    "traning_set=traindata_gen.flow_from_directory(train_path,\n",
    "                                              target_size =image_shape[:2],\n",
    "                                                 batch_size = batch_size,\n",
    "                                                 color_mode=\"grayscale\",\n",
    "                                                 class_mode = 'categorical')\n",
    "\n",
    "testing_set=testdata_gen.flow_from_directory(test_path,\n",
    "                                            target_size = image_shape[:2],\n",
    "                                                 batch_size = batch_size,\n",
    "                                                 color_mode=\"grayscale\",\n",
    "                                                 class_mode = 'categorical',\n",
    "                                            shuffle=False)\n",
    "val_set = valdatagen.flow_from_directory(val_path,\n",
    "                                            target_size = image_shape[:2],\n",
    "                                                 batch_size = batch_size,\n",
    "                                                 color_mode=\"grayscale\",\n",
    "                                                 class_mode = 'categorical',\n",
    "                                            shuffle=False )"
   ]
  },
  {
   "cell_type": "code",
   "execution_count": 42,
   "metadata": {},
   "outputs": [
    {
     "data": {
      "text/plain": [
       "{'+': 0,\n",
       " '-': 1,\n",
       " '0': 2,\n",
       " '1': 3,\n",
       " '2': 4,\n",
       " '3': 5,\n",
       " '4': 6,\n",
       " '5': 7,\n",
       " '6': 8,\n",
       " '7': 9,\n",
       " '8': 10,\n",
       " '9': 11,\n",
       " '=': 12,\n",
       " 'X': 13,\n",
       " 'div': 14,\n",
       " 'y': 15,\n",
       " 'z': 16}"
      ]
     },
     "execution_count": 42,
     "metadata": {},
     "output_type": "execute_result"
    }
   ],
   "source": [
    "testing_set.class_indices"
   ]
  },
  {
   "cell_type": "code",
   "execution_count": 46,
   "metadata": {},
   "outputs": [
    {
     "name": "stdout",
     "output_type": "stream",
     "text": [
      "Epoch 1/8\n",
      "5229/5229 [==============================] - 1444s 273ms/step - loss: 0.4598 - accuracy: 0.8638 - val_loss: 0.0710 - val_accuracy: 0.9808\n",
      "Epoch 2/8\n",
      "5229/5229 [==============================] - 221s 42ms/step - loss: 0.2058 - accuracy: 0.9412 - val_loss: 0.0709 - val_accuracy: 0.9812\n",
      "Epoch 3/8\n",
      "5229/5229 [==============================] - 174s 33ms/step - loss: 0.1731 - accuracy: 0.9509 - val_loss: 0.0506 - val_accuracy: 0.9866\n",
      "Epoch 4/8\n",
      "5229/5229 [==============================] - 172s 33ms/step - loss: 0.1521 - accuracy: 0.9566 - val_loss: 0.0557 - val_accuracy: 0.9854\n",
      "Epoch 5/8\n",
      "5229/5229 [==============================] - 174s 33ms/step - loss: 0.1424 - accuracy: 0.9590 - val_loss: 0.0458 - val_accuracy: 0.9884\n",
      "Epoch 6/8\n",
      "5229/5229 [==============================] - 180s 34ms/step - loss: 0.1319 - accuracy: 0.9623 - val_loss: 0.0447 - val_accuracy: 0.9888\n",
      "Epoch 7/8\n",
      "5229/5229 [==============================] - 180s 34ms/step - loss: 0.1291 - accuracy: 0.9632 - val_loss: 0.0464 - val_accuracy: 0.9873\n",
      "Epoch 8/8\n",
      "5229/5229 [==============================] - 182s 35ms/step - loss: 0.1305 - accuracy: 0.9628 - val_loss: 0.0426 - val_accuracy: 0.9888\n"
     ]
    }
   ],
   "source": [
    "result = model.fit(\n",
    "  traning_set,\n",
    "  epochs=8,\n",
    "  validation_data=testing_set,\n",
    "  callbacks=[early_stop]\n",
    "    \n",
    ")"
   ]
  },
  {
   "cell_type": "code",
   "execution_count": 48,
   "metadata": {},
   "outputs": [],
   "source": [
    "model.save(\"17class.h5\")"
   ]
  }
 ],
 "metadata": {
  "interpreter": {
   "hash": "763056c7e171803d4ead5eebeeaa28780329db325b6a12ecc009d05efa848754"
  },
  "kernelspec": {
   "display_name": "Python 3.8.0 64-bit ('tf2.4': conda)",
   "name": "python3"
  },
  "language_info": {
   "codemirror_mode": {
    "name": "ipython",
    "version": 3
   },
   "file_extension": ".py",
   "mimetype": "text/x-python",
   "name": "python",
   "nbconvert_exporter": "python",
   "pygments_lexer": "ipython3",
   "version": "3.7.11"
  },
  "orig_nbformat": 4
 },
 "nbformat": 4,
 "nbformat_minor": 2
}
